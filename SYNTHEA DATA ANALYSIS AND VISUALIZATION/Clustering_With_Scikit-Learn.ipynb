{
 "cells": [
  {
   "cell_type": "code",
   "execution_count": 45,
   "metadata": {},
   "outputs": [],
   "source": [
    "import pandas as pd\n",
    "import numpy as np\n",
    "import matplotlib.pyplot as plt\n",
    "%matplotlib inline\n",
    "from sklearn.impute import SimpleImputer\n",
    "from sklearn.preprocessing import StandardScaler\n",
    "from sklearn.cluster import KMeans"
   ]
  },
  {
   "cell_type": "markdown",
   "metadata": {},
   "source": [
    "# Organize a Data Frame of Observations\n",
    "\n",
    "## Read the patient ids into a column"
   ]
  },
  {
   "cell_type": "code",
   "execution_count": 4,
   "metadata": {},
   "outputs": [],
   "source": [
    "data = pd.read_csv(\"observations.csv\")\n",
    "\n",
    "patient_ids = set()\n",
    "\n",
    "for patient_id in data[\"PATIENT\"]:\n",
    "    patient_ids.add(patient_id)\n",
    "patient_ids = list(patient_ids)\n",
    "patient_ids.sort()"
   ]
  },
  {
   "cell_type": "markdown",
   "metadata": {},
   "source": [
    "## Set the column names"
   ]
  },
  {
   "cell_type": "code",
   "execution_count": 5,
   "metadata": {},
   "outputs": [
    {
     "data": {
      "text/html": [
       "<div>\n",
       "<style scoped>\n",
       "    .dataframe tbody tr th:only-of-type {\n",
       "        vertical-align: middle;\n",
       "    }\n",
       "\n",
       "    .dataframe tbody tr th {\n",
       "        vertical-align: top;\n",
       "    }\n",
       "\n",
       "    .dataframe thead th {\n",
       "        text-align: right;\n",
       "    }\n",
       "</style>\n",
       "<table border=\"1\" class=\"dataframe\">\n",
       "  <thead>\n",
       "    <tr style=\"text-align: right;\">\n",
       "      <th></th>\n",
       "      <th>patient_id</th>\n",
       "      <th>Body Height</th>\n",
       "      <th>Body Weight</th>\n",
       "      <th>Body Mass Index</th>\n",
       "      <th>Body temperature</th>\n",
       "      <th>Respiratory rate</th>\n",
       "      <th>Systolic Blood Pressure</th>\n",
       "      <th>Triglycerides</th>\n",
       "      <th>Hemoglobin [Mass/volume] in Blood</th>\n",
       "    </tr>\n",
       "  </thead>\n",
       "  <tbody>\n",
       "    <tr>\n",
       "      <th>0</th>\n",
       "      <td>00185faa-2760-4218-9bf5-db301acf8274</td>\n",
       "      <td>NaN</td>\n",
       "      <td>NaN</td>\n",
       "      <td>NaN</td>\n",
       "      <td>NaN</td>\n",
       "      <td>NaN</td>\n",
       "      <td>NaN</td>\n",
       "      <td>NaN</td>\n",
       "      <td>NaN</td>\n",
       "    </tr>\n",
       "    <tr>\n",
       "      <th>1</th>\n",
       "      <td>0042862c-9889-4a2e-b782-fac1e540ecb4</td>\n",
       "      <td>NaN</td>\n",
       "      <td>NaN</td>\n",
       "      <td>NaN</td>\n",
       "      <td>NaN</td>\n",
       "      <td>NaN</td>\n",
       "      <td>NaN</td>\n",
       "      <td>NaN</td>\n",
       "      <td>NaN</td>\n",
       "    </tr>\n",
       "    <tr>\n",
       "      <th>2</th>\n",
       "      <td>0047123f-12e7-486c-82df-53b3a450e365</td>\n",
       "      <td>NaN</td>\n",
       "      <td>NaN</td>\n",
       "      <td>NaN</td>\n",
       "      <td>NaN</td>\n",
       "      <td>NaN</td>\n",
       "      <td>NaN</td>\n",
       "      <td>NaN</td>\n",
       "      <td>NaN</td>\n",
       "    </tr>\n",
       "    <tr>\n",
       "      <th>3</th>\n",
       "      <td>010d4a3a-2316-45ed-ae15-16f01c611674</td>\n",
       "      <td>NaN</td>\n",
       "      <td>NaN</td>\n",
       "      <td>NaN</td>\n",
       "      <td>NaN</td>\n",
       "      <td>NaN</td>\n",
       "      <td>NaN</td>\n",
       "      <td>NaN</td>\n",
       "      <td>NaN</td>\n",
       "    </tr>\n",
       "    <tr>\n",
       "      <th>4</th>\n",
       "      <td>01207ecd-9dff-4754-8887-4652eda231e2</td>\n",
       "      <td>NaN</td>\n",
       "      <td>NaN</td>\n",
       "      <td>NaN</td>\n",
       "      <td>NaN</td>\n",
       "      <td>NaN</td>\n",
       "      <td>NaN</td>\n",
       "      <td>NaN</td>\n",
       "      <td>NaN</td>\n",
       "    </tr>\n",
       "  </tbody>\n",
       "</table>\n",
       "</div>"
      ],
      "text/plain": [
       "                             patient_id Body Height Body Weight  \\\n",
       "0  00185faa-2760-4218-9bf5-db301acf8274         NaN         NaN   \n",
       "1  0042862c-9889-4a2e-b782-fac1e540ecb4         NaN         NaN   \n",
       "2  0047123f-12e7-486c-82df-53b3a450e365         NaN         NaN   \n",
       "3  010d4a3a-2316-45ed-ae15-16f01c611674         NaN         NaN   \n",
       "4  01207ecd-9dff-4754-8887-4652eda231e2         NaN         NaN   \n",
       "\n",
       "  Body Mass Index Body temperature Respiratory rate Systolic Blood Pressure  \\\n",
       "0             NaN              NaN              NaN                     NaN   \n",
       "1             NaN              NaN              NaN                     NaN   \n",
       "2             NaN              NaN              NaN                     NaN   \n",
       "3             NaN              NaN              NaN                     NaN   \n",
       "4             NaN              NaN              NaN                     NaN   \n",
       "\n",
       "  Triglycerides Hemoglobin [Mass/volume] in Blood  \n",
       "0           NaN                               NaN  \n",
       "1           NaN                               NaN  \n",
       "2           NaN                               NaN  \n",
       "3           NaN                               NaN  \n",
       "4           NaN                               NaN  "
      ]
     },
     "execution_count": 5,
     "metadata": {},
     "output_type": "execute_result"
    }
   ],
   "source": [
    "columns = [\"patient_id\", \"Body Height\", \"Body Weight\", \"Body Mass Index\", \"Body temperature\", \n",
    "          \"Respiratory rate\", \"Systolic Blood Pressure\", \"Triglycerides\", \"Hemoglobin [Mass/volume] in Blood\"]\n",
    "df = pd.DataFrame(columns = columns)\n",
    "df[\"patient_id\"] = patient_ids\n",
    "df.head()"
   ]
  },
  {
   "cell_type": "markdown",
   "metadata": {},
   "source": [
    "## Loop through each row of the observations dataframe, and populate lists of the patient, description (type of observation), and value of the observation"
   ]
  },
  {
   "cell_type": "code",
   "execution_count": 18,
   "metadata": {},
   "outputs": [
    {
     "name": "stdout",
     "output_type": "stream",
     "text": [
      "[('034e9e3b-2def-4559-bb2a-7850888ae060', 'Body Height', '193.3'), ('034e9e3b-2def-4559-bb2a-7850888ae060', 'Body Weight', '87.8'), ('034e9e3b-2def-4559-bb2a-7850888ae060', 'Body Mass Index', '23.5'), ('034e9e3b-2def-4559-bb2a-7850888ae060', 'Systolic Blood Pressure', '119.0'), ('034e9e3b-2def-4559-bb2a-7850888ae060', 'Respiratory rate', '14.0')]\n"
     ]
    }
   ],
   "source": [
    "patients = []\n",
    "descriptions = []\n",
    "values = []   \n",
    "\n",
    "for index, row in data[[\"PATIENT\", \"DESCRIPTION\", \"VALUE\"]].iterrows():\n",
    "    if row[\"DESCRIPTION\"] in columns:\n",
    "        for column in columns:\n",
    "            if row[\"DESCRIPTION\"] == column:\n",
    "                patients.append(row[\"PATIENT\"])\n",
    "                descriptions.append(column)\n",
    "                values.append(row[\"VALUE\"])\n",
    "                       \n",
    "\n",
    "                       \n",
    "                       \n",
    "                           \n",
    "                       \n"
   ]
  },
  {
   "cell_type": "markdown",
   "metadata": {},
   "source": [
    "## For each patient, description, and value, add the value under the correct column in the correct patient's row"
   ]
  },
  {
   "cell_type": "code",
   "execution_count": 31,
   "metadata": {},
   "outputs": [],
   "source": [
    "\n",
    "for index, row in df.iterrows():\n",
    "    for pat, desc, val in zip(patients, descriptions, values):\n",
    "        if pat == row[\"patient_id\"]:\n",
    "            df.loc[df.patient_id == pat, desc] = val\n",
    "            \n"
   ]
  },
  {
   "cell_type": "code",
   "execution_count": 42,
   "metadata": {},
   "outputs": [
    {
     "data": {
      "text/html": [
       "<div>\n",
       "<style scoped>\n",
       "    .dataframe tbody tr th:only-of-type {\n",
       "        vertical-align: middle;\n",
       "    }\n",
       "\n",
       "    .dataframe tbody tr th {\n",
       "        vertical-align: top;\n",
       "    }\n",
       "\n",
       "    .dataframe thead th {\n",
       "        text-align: right;\n",
       "    }\n",
       "</style>\n",
       "<table border=\"1\" class=\"dataframe\">\n",
       "  <thead>\n",
       "    <tr style=\"text-align: right;\">\n",
       "      <th></th>\n",
       "      <th>Body Height</th>\n",
       "      <th>Body Weight</th>\n",
       "      <th>Body Mass Index</th>\n",
       "      <th>Body temperature</th>\n",
       "      <th>Respiratory rate</th>\n",
       "      <th>Systolic Blood Pressure</th>\n",
       "      <th>Triglycerides</th>\n",
       "      <th>Hemoglobin [Mass/volume] in Blood</th>\n",
       "    </tr>\n",
       "    <tr>\n",
       "      <th>patient_id</th>\n",
       "      <th></th>\n",
       "      <th></th>\n",
       "      <th></th>\n",
       "      <th></th>\n",
       "      <th></th>\n",
       "      <th></th>\n",
       "      <th></th>\n",
       "      <th></th>\n",
       "    </tr>\n",
       "  </thead>\n",
       "  <tbody>\n",
       "    <tr>\n",
       "      <th>00185faa-2760-4218-9bf5-db301acf8274</th>\n",
       "      <td>177.7</td>\n",
       "      <td>64.9</td>\n",
       "      <td>20.6</td>\n",
       "      <td>37.5</td>\n",
       "      <td>14.0</td>\n",
       "      <td>107.0</td>\n",
       "      <td>NaN</td>\n",
       "      <td>13.6</td>\n",
       "    </tr>\n",
       "    <tr>\n",
       "      <th>0042862c-9889-4a2e-b782-fac1e540ecb4</th>\n",
       "      <td>126.7</td>\n",
       "      <td>25.6</td>\n",
       "      <td>15.9</td>\n",
       "      <td>37.6</td>\n",
       "      <td>13.0</td>\n",
       "      <td>115.0</td>\n",
       "      <td>NaN</td>\n",
       "      <td>16.5</td>\n",
       "    </tr>\n",
       "    <tr>\n",
       "      <th>0047123f-12e7-486c-82df-53b3a450e365</th>\n",
       "      <td>176.5</td>\n",
       "      <td>87.6</td>\n",
       "      <td>28.1</td>\n",
       "      <td>NaN</td>\n",
       "      <td>14.0</td>\n",
       "      <td>118.0</td>\n",
       "      <td>121.1</td>\n",
       "      <td>12.0</td>\n",
       "    </tr>\n",
       "    <tr>\n",
       "      <th>010d4a3a-2316-45ed-ae15-16f01c611674</th>\n",
       "      <td>170.8</td>\n",
       "      <td>87.0</td>\n",
       "      <td>29.8</td>\n",
       "      <td>37.4</td>\n",
       "      <td>15.0</td>\n",
       "      <td>118.0</td>\n",
       "      <td>NaN</td>\n",
       "      <td>17.3</td>\n",
       "    </tr>\n",
       "    <tr>\n",
       "      <th>01207ecd-9dff-4754-8887-4652eda231e2</th>\n",
       "      <td>70.9</td>\n",
       "      <td>9.4</td>\n",
       "      <td>NaN</td>\n",
       "      <td>NaN</td>\n",
       "      <td>14.0</td>\n",
       "      <td>136.0</td>\n",
       "      <td>NaN</td>\n",
       "      <td>15.5</td>\n",
       "    </tr>\n",
       "  </tbody>\n",
       "</table>\n",
       "</div>"
      ],
      "text/plain": [
       "                                     Body Height Body Weight Body Mass Index  \\\n",
       "patient_id                                                                     \n",
       "00185faa-2760-4218-9bf5-db301acf8274       177.7        64.9            20.6   \n",
       "0042862c-9889-4a2e-b782-fac1e540ecb4       126.7        25.6            15.9   \n",
       "0047123f-12e7-486c-82df-53b3a450e365       176.5        87.6            28.1   \n",
       "010d4a3a-2316-45ed-ae15-16f01c611674       170.8        87.0            29.8   \n",
       "01207ecd-9dff-4754-8887-4652eda231e2        70.9         9.4             NaN   \n",
       "\n",
       "                                     Body temperature Respiratory rate  \\\n",
       "patient_id                                                               \n",
       "00185faa-2760-4218-9bf5-db301acf8274             37.5             14.0   \n",
       "0042862c-9889-4a2e-b782-fac1e540ecb4             37.6             13.0   \n",
       "0047123f-12e7-486c-82df-53b3a450e365              NaN             14.0   \n",
       "010d4a3a-2316-45ed-ae15-16f01c611674             37.4             15.0   \n",
       "01207ecd-9dff-4754-8887-4652eda231e2              NaN             14.0   \n",
       "\n",
       "                                     Systolic Blood Pressure Triglycerides  \\\n",
       "patient_id                                                                   \n",
       "00185faa-2760-4218-9bf5-db301acf8274                   107.0           NaN   \n",
       "0042862c-9889-4a2e-b782-fac1e540ecb4                   115.0           NaN   \n",
       "0047123f-12e7-486c-82df-53b3a450e365                   118.0         121.1   \n",
       "010d4a3a-2316-45ed-ae15-16f01c611674                   118.0           NaN   \n",
       "01207ecd-9dff-4754-8887-4652eda231e2                   136.0           NaN   \n",
       "\n",
       "                                     Hemoglobin [Mass/volume] in Blood  \n",
       "patient_id                                                              \n",
       "00185faa-2760-4218-9bf5-db301acf8274                              13.6  \n",
       "0042862c-9889-4a2e-b782-fac1e540ecb4                              16.5  \n",
       "0047123f-12e7-486c-82df-53b3a450e365                              12.0  \n",
       "010d4a3a-2316-45ed-ae15-16f01c611674                              17.3  \n",
       "01207ecd-9dff-4754-8887-4652eda231e2                              15.5  "
      ]
     },
     "execution_count": 42,
     "metadata": {},
     "output_type": "execute_result"
    }
   ],
   "source": [
    "# df = df.set_index(\"patient_id\", drop = False)\n",
    "df.head()"
   ]
  },
  {
   "cell_type": "markdown",
   "metadata": {},
   "source": [
    "### Now that the data frame is correctly populated, fill the null values with the mean of each column using scikit-learn"
   ]
  },
  {
   "cell_type": "code",
   "execution_count": 46,
   "metadata": {},
   "outputs": [
    {
     "data": {
      "text/html": [
       "<div>\n",
       "<style scoped>\n",
       "    .dataframe tbody tr th:only-of-type {\n",
       "        vertical-align: middle;\n",
       "    }\n",
       "\n",
       "    .dataframe tbody tr th {\n",
       "        vertical-align: top;\n",
       "    }\n",
       "\n",
       "    .dataframe thead th {\n",
       "        text-align: right;\n",
       "    }\n",
       "</style>\n",
       "<table border=\"1\" class=\"dataframe\">\n",
       "  <thead>\n",
       "    <tr style=\"text-align: right;\">\n",
       "      <th></th>\n",
       "      <th>0</th>\n",
       "      <th>1</th>\n",
       "      <th>2</th>\n",
       "      <th>3</th>\n",
       "      <th>4</th>\n",
       "      <th>5</th>\n",
       "      <th>6</th>\n",
       "      <th>7</th>\n",
       "    </tr>\n",
       "  </thead>\n",
       "  <tbody>\n",
       "    <tr>\n",
       "      <th>0</th>\n",
       "      <td>177.7</td>\n",
       "      <td>64.9</td>\n",
       "      <td>20.600000</td>\n",
       "      <td>37.500000</td>\n",
       "      <td>14.0</td>\n",
       "      <td>107.0</td>\n",
       "      <td>131.465247</td>\n",
       "      <td>13.6</td>\n",
       "    </tr>\n",
       "    <tr>\n",
       "      <th>1</th>\n",
       "      <td>126.7</td>\n",
       "      <td>25.6</td>\n",
       "      <td>15.900000</td>\n",
       "      <td>37.600000</td>\n",
       "      <td>13.0</td>\n",
       "      <td>115.0</td>\n",
       "      <td>131.465247</td>\n",
       "      <td>16.5</td>\n",
       "    </tr>\n",
       "    <tr>\n",
       "      <th>2</th>\n",
       "      <td>176.5</td>\n",
       "      <td>87.6</td>\n",
       "      <td>28.100000</td>\n",
       "      <td>37.640559</td>\n",
       "      <td>14.0</td>\n",
       "      <td>118.0</td>\n",
       "      <td>121.100000</td>\n",
       "      <td>12.0</td>\n",
       "    </tr>\n",
       "    <tr>\n",
       "      <th>3</th>\n",
       "      <td>170.8</td>\n",
       "      <td>87.0</td>\n",
       "      <td>29.800000</td>\n",
       "      <td>37.400000</td>\n",
       "      <td>15.0</td>\n",
       "      <td>118.0</td>\n",
       "      <td>131.465247</td>\n",
       "      <td>17.3</td>\n",
       "    </tr>\n",
       "    <tr>\n",
       "      <th>4</th>\n",
       "      <td>70.9</td>\n",
       "      <td>9.4</td>\n",
       "      <td>26.419312</td>\n",
       "      <td>37.640559</td>\n",
       "      <td>14.0</td>\n",
       "      <td>136.0</td>\n",
       "      <td>131.465247</td>\n",
       "      <td>15.5</td>\n",
       "    </tr>\n",
       "  </tbody>\n",
       "</table>\n",
       "</div>"
      ],
      "text/plain": [
       "       0     1          2          3     4      5           6     7\n",
       "0  177.7  64.9  20.600000  37.500000  14.0  107.0  131.465247  13.6\n",
       "1  126.7  25.6  15.900000  37.600000  13.0  115.0  131.465247  16.5\n",
       "2  176.5  87.6  28.100000  37.640559  14.0  118.0  121.100000  12.0\n",
       "3  170.8  87.0  29.800000  37.400000  15.0  118.0  131.465247  17.3\n",
       "4   70.9   9.4  26.419312  37.640559  14.0  136.0  131.465247  15.5"
      ]
     },
     "execution_count": 46,
     "metadata": {},
     "output_type": "execute_result"
    }
   ],
   "source": [
    "imp_mean = SimpleImputer(missing_values = np.nan, strategy='mean')\n",
    "df = imp_mean.fit_transform(df)\n",
    "pd.DataFrame(df).head()"
   ]
  },
  {
   "cell_type": "markdown",
   "metadata": {},
   "source": [
    "### Normalize the data so the scale of each column is of a similar magnitude"
   ]
  },
  {
   "cell_type": "code",
   "execution_count": 47,
   "metadata": {},
   "outputs": [
    {
     "data": {
      "text/html": [
       "<div>\n",
       "<style scoped>\n",
       "    .dataframe tbody tr th:only-of-type {\n",
       "        vertical-align: middle;\n",
       "    }\n",
       "\n",
       "    .dataframe tbody tr th {\n",
       "        vertical-align: top;\n",
       "    }\n",
       "\n",
       "    .dataframe thead th {\n",
       "        text-align: right;\n",
       "    }\n",
       "</style>\n",
       "<table border=\"1\" class=\"dataframe\">\n",
       "  <thead>\n",
       "    <tr style=\"text-align: right;\">\n",
       "      <th></th>\n",
       "      <th>0</th>\n",
       "      <th>1</th>\n",
       "      <th>2</th>\n",
       "      <th>3</th>\n",
       "      <th>4</th>\n",
       "      <th>5</th>\n",
       "      <th>6</th>\n",
       "      <th>7</th>\n",
       "    </tr>\n",
       "  </thead>\n",
       "  <tbody>\n",
       "    <tr>\n",
       "      <th>0</th>\n",
       "      <td>0.691564</td>\n",
       "      <td>-0.268611</td>\n",
       "      <td>-1.267559e+00</td>\n",
       "      <td>-0.415361</td>\n",
       "      <td>-0.040192</td>\n",
       "      <td>-1.016084</td>\n",
       "      <td>0.000000</td>\n",
       "      <td>-0.606133</td>\n",
       "    </tr>\n",
       "    <tr>\n",
       "      <th>1</th>\n",
       "      <td>-1.413982</td>\n",
       "      <td>-1.931338</td>\n",
       "      <td>-2.291310e+00</td>\n",
       "      <td>-0.119855</td>\n",
       "      <td>-0.911768</td>\n",
       "      <td>-0.437265</td>\n",
       "      <td>0.000000</td>\n",
       "      <td>1.085351</td>\n",
       "    </tr>\n",
       "    <tr>\n",
       "      <th>2</th>\n",
       "      <td>0.642022</td>\n",
       "      <td>0.691794</td>\n",
       "      <td>3.660864e-01</td>\n",
       "      <td>0.000000</td>\n",
       "      <td>-0.040192</td>\n",
       "      <td>-0.220208</td>\n",
       "      <td>-0.516389</td>\n",
       "      <td>-1.539365</td>\n",
       "    </tr>\n",
       "    <tr>\n",
       "      <th>3</th>\n",
       "      <td>0.406696</td>\n",
       "      <td>0.666409</td>\n",
       "      <td>7.363793e-01</td>\n",
       "      <td>-0.710867</td>\n",
       "      <td>0.831384</td>\n",
       "      <td>-0.220208</td>\n",
       "      <td>0.000000</td>\n",
       "      <td>1.551967</td>\n",
       "    </tr>\n",
       "    <tr>\n",
       "      <th>4</th>\n",
       "      <td>-3.717697</td>\n",
       "      <td>-2.616737</td>\n",
       "      <td>7.738498e-16</td>\n",
       "      <td>0.000000</td>\n",
       "      <td>-0.040192</td>\n",
       "      <td>1.082134</td>\n",
       "      <td>0.000000</td>\n",
       "      <td>0.502081</td>\n",
       "    </tr>\n",
       "  </tbody>\n",
       "</table>\n",
       "</div>"
      ],
      "text/plain": [
       "          0         1             2         3         4         5         6  \\\n",
       "0  0.691564 -0.268611 -1.267559e+00 -0.415361 -0.040192 -1.016084  0.000000   \n",
       "1 -1.413982 -1.931338 -2.291310e+00 -0.119855 -0.911768 -0.437265  0.000000   \n",
       "2  0.642022  0.691794  3.660864e-01  0.000000 -0.040192 -0.220208 -0.516389   \n",
       "3  0.406696  0.666409  7.363793e-01 -0.710867  0.831384 -0.220208  0.000000   \n",
       "4 -3.717697 -2.616737  7.738498e-16  0.000000 -0.040192  1.082134  0.000000   \n",
       "\n",
       "          7  \n",
       "0 -0.606133  \n",
       "1  1.085351  \n",
       "2 -1.539365  \n",
       "3  1.551967  \n",
       "4  0.502081  "
      ]
     },
     "execution_count": 47,
     "metadata": {},
     "output_type": "execute_result"
    }
   ],
   "source": [
    "scaler = StandardScaler()\n",
    "df_scaled = scaler.fit_transform(df)\n",
    "pd.DataFrame(df_scaled).head()"
   ]
  },
  {
   "cell_type": "markdown",
   "metadata": {},
   "source": [
    "## Perform a sample clustering job on the data"
   ]
  },
  {
   "cell_type": "code",
   "execution_count": 48,
   "metadata": {},
   "outputs": [
    {
     "data": {
      "text/plain": [
       "KMeans(algorithm='auto', copy_x=True, init='k-means++', max_iter=300,\n",
       "    n_clusters=2, n_init=10, n_jobs=None, precompute_distances='auto',\n",
       "    random_state=None, tol=0.0001, verbose=0)"
      ]
     },
     "execution_count": 48,
     "metadata": {},
     "output_type": "execute_result"
    }
   ],
   "source": [
    "kmeans = KMeans(n_clusters = 2, init = 'k-means++')\n",
    "\n",
    "kmeans.fit(df_scaled)"
   ]
  },
  {
   "cell_type": "markdown",
   "metadata": {},
   "source": [
    "## The inertia of a clustering job is the sum of the distances of each point in each cluster to their centroid. It indicates how \"tight\" the clusters are, so the smaller this value the better. "
   ]
  },
  {
   "cell_type": "code",
   "execution_count": 49,
   "metadata": {},
   "outputs": [
    {
     "data": {
      "text/plain": [
       "7216.928961237729"
      ]
     },
     "execution_count": 49,
     "metadata": {},
     "output_type": "execute_result"
    }
   ],
   "source": [
    "kmeans.inertia_"
   ]
  },
  {
   "cell_type": "markdown",
   "metadata": {},
   "source": [
    "## To find the optimum number of clusters, we can graph the inertia as a function of the number of clusters. We don't want too many clusters, because this will slow the model down on large datasets. "
   ]
  },
  {
   "cell_type": "code",
   "execution_count": 57,
   "metadata": {},
   "outputs": [
    {
     "data": {
      "image/png": "[encoded data removed]",
      "text/plain": [
       "<Figure size 864x432 with 1 Axes>"
      ]
     },
     "metadata": {
      "needs_background": "light"
     },
     "output_type": "display_data"
    }
   ],
   "source": [
    "SSE = []\n",
    "for cluster in range(1, 20):\n",
    "    kmeans = KMeans(n_jobs = -1, n_clusters = cluster, init = \"k-means++\")\n",
    "    kmeans.fit(df_scaled)\n",
    "    SSE.append(kmeans.inertia_)\n",
    "\n",
    "frame = pd.DataFrame({\"Cluster\": range(1, 20), \"SSE\": SSE})\n",
    "plt.figure(figsize = (12, 6))\n",
    "plt.plot(frame[\"Cluster\"], frame[\"SSE\"], marker = 'o')\n",
    "plt.xlabel(\"Number of clusters\")\n",
    "plt.ylabel(\"Inertia\")\n",
    "plt.show()\n"
   ]
  },
  {
   "cell_type": "markdown",
   "metadata": {},
   "source": [
    "### I chose 15 as the number of clusters, because it is not a massive data set and the curve seems to flatten at that point. \n",
    "\n",
    "#### Next, we fit the model with this number of clusters, and use it on our data set to label each row to a cluster"
   ]
  },
  {
   "cell_type": "code",
   "execution_count": 60,
   "metadata": {},
   "outputs": [
    {
     "name": "stdout",
     "output_type": "stream",
     "text": [
      "[14 13  0 ...  9  4  1]\n"
     ]
    }
   ],
   "source": [
    "# k means using 15 clusters and k-means++ initialization\n",
    "kmeans = KMeans(n_jobs = -1, n_clusters = 15, init = 'k-means++')\n",
    "kmeans.fit(df_scaled)\n",
    "pred = kmeans.predict(df_scaled)\n",
    "print(pred) # returns a list of clusters for each row"
   ]
  },
  {
   "cell_type": "markdown",
   "metadata": {},
   "source": [
    "## We now look for outliers: the clusters that have a very small population of rows (data points) associated with them"
   ]
  },
  {
   "cell_type": "code",
   "execution_count": 61,
   "metadata": {},
   "outputs": [
    {
     "data": {
      "text/plain": [
       "4     208\n",
       "3     127\n",
       "6     122\n",
       "0     111\n",
       "2     106\n",
       "14     80\n",
       "7      77\n",
       "5      61\n",
       "1      58\n",
       "12     55\n",
       "13     51\n",
       "9      41\n",
       "11     37\n",
       "10     36\n",
       "8       1\n",
       "Name: cluster, dtype: int64"
      ]
     },
     "execution_count": 61,
     "metadata": {},
     "output_type": "execute_result"
    }
   ],
   "source": [
    "frame = pd.DataFrame(df_scaled)\n",
    "frame[\"cluster\"] = pred\n",
    "frame[\"cluster\"].value_counts()"
   ]
  },
  {
   "cell_type": "markdown",
   "metadata": {},
   "source": [
    "## The 8th cluster has only one data point in it. Let's inspect that row."
   ]
  },
  {
   "cell_type": "code",
   "execution_count": 63,
   "metadata": {},
   "outputs": [
    {
     "data": {
      "text/html": [
       "<div>\n",
       "<style scoped>\n",
       "    .dataframe tbody tr th:only-of-type {\n",
       "        vertical-align: middle;\n",
       "    }\n",
       "\n",
       "    .dataframe tbody tr th {\n",
       "        vertical-align: top;\n",
       "    }\n",
       "\n",
       "    .dataframe thead th {\n",
       "        text-align: right;\n",
       "    }\n",
       "</style>\n",
       "<table border=\"1\" class=\"dataframe\">\n",
       "  <thead>\n",
       "    <tr style=\"text-align: right;\">\n",
       "      <th></th>\n",
       "      <th>0</th>\n",
       "      <th>1</th>\n",
       "      <th>2</th>\n",
       "      <th>3</th>\n",
       "      <th>4</th>\n",
       "      <th>5</th>\n",
       "      <th>6</th>\n",
       "      <th>7</th>\n",
       "      <th>cluster</th>\n",
       "    </tr>\n",
       "  </thead>\n",
       "  <tbody>\n",
       "    <tr>\n",
       "      <th>467</th>\n",
       "      <td>0.476881</td>\n",
       "      <td>0.450635</td>\n",
       "      <td>0.235395</td>\n",
       "      <td>0.0</td>\n",
       "      <td>-1.783344</td>\n",
       "      <td>-0.437265</td>\n",
       "      <td>15.819346</td>\n",
       "      <td>1.260332</td>\n",
       "      <td>8</td>\n",
       "    </tr>\n",
       "  </tbody>\n",
       "</table>\n",
       "</div>"
      ],
      "text/plain": [
       "            0         1         2    3         4         5          6  \\\n",
       "467  0.476881  0.450635  0.235395  0.0 -1.783344 -0.437265  15.819346   \n",
       "\n",
       "            7  cluster  \n",
       "467  1.260332        8  "
      ]
     },
     "execution_count": 63,
     "metadata": {},
     "output_type": "execute_result"
    }
   ],
   "source": [
    "frame.loc[frame.cluster == 8]"
   ]
  },
  {
   "cell_type": "code",
   "execution_count": 80,
   "metadata": {},
   "outputs": [
    {
     "data": {
      "text/html": [
       "<div>\n",
       "<style scoped>\n",
       "    .dataframe tbody tr th:only-of-type {\n",
       "        vertical-align: middle;\n",
       "    }\n",
       "\n",
       "    .dataframe tbody tr th {\n",
       "        vertical-align: top;\n",
       "    }\n",
       "\n",
       "    .dataframe thead th {\n",
       "        text-align: right;\n",
       "    }\n",
       "</style>\n",
       "<table border=\"1\" class=\"dataframe\">\n",
       "  <thead>\n",
       "    <tr style=\"text-align: right;\">\n",
       "      <th></th>\n",
       "      <th>Body Height</th>\n",
       "      <th>Body Weight</th>\n",
       "      <th>Body Mass Index</th>\n",
       "      <th>Body temperature</th>\n",
       "      <th>Respiratory rate</th>\n",
       "      <th>Systolic Blood Pressure</th>\n",
       "      <th>Triglycerides</th>\n",
       "      <th>Hemoglobin [Mass/volume] in Blood</th>\n",
       "    </tr>\n",
       "  </thead>\n",
       "  <tbody>\n",
       "    <tr>\n",
       "      <th>467</th>\n",
       "      <td>172.5</td>\n",
       "      <td>81.9</td>\n",
       "      <td>27.5</td>\n",
       "      <td>37.640559</td>\n",
       "      <td>12.0</td>\n",
       "      <td>115.0</td>\n",
       "      <td>449.0</td>\n",
       "      <td>16.8</td>\n",
       "    </tr>\n",
       "  </tbody>\n",
       "</table>\n",
       "</div>"
      ],
      "text/plain": [
       "     Body Height  Body Weight  Body Mass Index  Body temperature  \\\n",
       "467        172.5         81.9             27.5         37.640559   \n",
       "\n",
       "     Respiratory rate  Systolic Blood Pressure  Triglycerides  \\\n",
       "467              12.0                    115.0          449.0   \n",
       "\n",
       "     Hemoglobin [Mass/volume] in Blood  \n",
       "467                               16.8  "
      ]
     },
     "execution_count": 80,
     "metadata": {},
     "output_type": "execute_result"
    }
   ],
   "source": [
    "df = pd.DataFrame(df)\n",
    "df = df.rename(columns = dict(zip(range(8), columns[1:])))\n",
    "df.iloc[[467]]"
   ]
  },
  {
   "cell_type": "markdown",
   "metadata": {},
   "source": [
    "## The row above is anomalous. Although it does not appear so without the aid of an algorithm. This patient's record would be further inspected to determine if there was an error in the observations reported about this patient. "
   ]
  },
  {
   "cell_type": "code",
   "execution_count": 1,
   "metadata": {},
   "outputs": [
    {
     "ename": "NameError",
     "evalue": "name 'df' is not defined",
     "output_type": "error",
     "traceback": [
      "\u001b[0;31m---------------------------------------------------------------------------\u001b[0m",
      "\u001b[0;31mNameError\u001b[0m                                 Traceback (most recent call last)",
      "\u001b[0;32m<ipython-input-1-c4fa5be0ffa5>\u001b[0m in \u001b[0;36m<module>\u001b[0;34m\u001b[0m\n\u001b[0;32m----> 1\u001b[0;31m \u001b[0mdf\u001b[0m\u001b[0;34m.\u001b[0m\u001b[0miloc\u001b[0m\u001b[0;34m[\u001b[0m\u001b[0;34m[\u001b[0m\u001b[0;36m465\u001b[0m\u001b[0;34m,\u001b[0m \u001b[0;36m466\u001b[0m\u001b[0;34m,\u001b[0m \u001b[0;36m467\u001b[0m\u001b[0;34m,\u001b[0m \u001b[0;36m468\u001b[0m\u001b[0;34m]\u001b[0m\u001b[0;34m]\u001b[0m\u001b[0;34m\u001b[0m\u001b[0;34m\u001b[0m\u001b[0m\n\u001b[0m",
      "\u001b[0;31mNameError\u001b[0m: name 'df' is not defined"
     ]
    }
   ],
   "source": [
    "df.iloc[[465, 466, 467, 468]]\n"
   ]
  },
  {
   "cell_type": "code",
   "execution_count": null,
   "metadata": {},
   "outputs": [],
   "source": []
  }
 ],
 "metadata": {
  "kernelspec": {
   "display_name": "Python 3",
   "language": "python",
   "name": "python3"
  },
  "language_info": {
   "codemirror_mode": {
    "name": "ipython",
    "version": 3
   },
   "file_extension": ".py",
   "mimetype": "text/x-python",
   "name": "python",
   "nbconvert_exporter": "python",
   "pygments_lexer": "ipython3",
   "version": "3.7.4"
  }
 },
 "nbformat": 4,
 "nbformat_minor": 4
}
